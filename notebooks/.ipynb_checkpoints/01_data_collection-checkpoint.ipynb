{
 "cells": [
  {
   "cell_type": "code",
   "execution_count": null,
   "id": "1ca60233",
   "metadata": {
    "vscode": {
     "languageId": "plaintext"
    }
   },
   "outputs": [],
   "source": [
    "# Install required packages\n",
    "!pip install pandas numpy requests beautifulsoup4 kaggle\n",
    "\n",
    "# Import necessary libraries\n",
    "import pandas as pd\n",
    "import numpy as np\n",
    "import requests\n",
    "from bs4 import BeautifulSoup\n",
    "import os\n",
    "import json\n",
    "import time\n",
    "from datetime import datetime\n",
    "import re\n",
    "import matplotlib.pyplot as plt\n",
    "import seaborn as sns"
   ]
  },
  {
   "cell_type": "code",
   "execution_count": null,
   "id": "19283b46",
   "metadata": {
    "vscode": {
     "languageId": "plaintext"
    }
   },
   "outputs": [],
   "source": [
    "# Load the dataset\n",
    "missions_df = pd.read_csv('/Users/naelamacbookair/desktop backup/self projects/space_mission_analysis/data/Space_Corrected.csv')\n",
    "\n",
    "# Display basic information about the dataset\n",
    "print(f\"Dataset shape: {missions_df.shape}\")\n",
    "missions_df.info()\n",
    "\n",
    "# Display first few rows\n",
    "missions_df.head()"
   ]
  },
  {
   "cell_type": "code",
   "execution_count": null,
   "id": "47277256",
   "metadata": {
    "vscode": {
     "languageId": "plaintext"
    }
   },
   "outputs": [],
   "source": [
    "# Check for missing values\n",
    "missing_values = missions_df.isnull().sum()\n",
    "print(\"Missing values per column:\")\n",
    "for col in missions_df.columns:\n",
    "    nulls = missions_df[col].isnull().sum()\n",
    "    if nulls > 0:\n",
    "        print(f\"{col}: {nulls} ({nulls/len(missions_df)*100:.2f}%)\")"
   ]
  },
  {
   "cell_type": "code",
   "execution_count": null,
   "id": "1804f3bf",
   "metadata": {
    "vscode": {
     "languageId": "plaintext"
    }
   },
   "outputs": [],
   "source": [
    "# Using NASA's API to get additional information\n",
    "# Note: This requires a NASA API key - get one at https://api.nasa.gov/\n",
    "NASA_API_KEY = \"YOUR_NASA_KEY_HERE\"  # Replace with your actual key\n",
    "\n",
    "def get_nasa_mission_info(mission_name):\n",
    "    \"\"\"Fetch mission information from NASA API.\"\"\"\n",
    "    base_url = \"https://api.nasa.gov/planetary/apod\"\n",
    "    params = {\n",
    "        \"api_key\": NASA_API_KEY,\n",
    "        \"date\": \"today\"  # This is just an example; NASA has other endpoints for mission data\n",
    "    }\n",
    "    \n",
    "    try:\n",
    "        response = requests.get(base_url, params=params)\n",
    "        if response.status_code == 200:\n",
    "            return response.json()\n",
    "        else:\n",
    "            print(f\"Error: {response.status_code}\")\n",
    "            return None\n",
    "    except Exception as e:\n",
    "        print(f\"Exception occurred: {e}\")\n",
    "        return None\n",
    "\n",
    "# Example usage\n",
    "# mission_info = get_nasa_mission_info(\"Apollo 11\")\n",
    "# print(mission_info)"
   ]
  },
  {
   "cell_type": "code",
   "execution_count": null,
   "id": "4da43a89",
   "metadata": {
    "vscode": {
     "languageId": "plaintext"
    }
   },
   "outputs": [],
   "source": [
    "def scrape_launch_sites():\n",
    "    \"\"\"Scrape information about major launch sites.\"\"\"\n",
    "    url = \"https://en.wikipedia.org/wiki/Spaceport\"\n",
    "    \n",
    "    response = requests.get(url)\n",
    "    launch_sites = []\n",
    "    \n",
    "    if response.status_code == 200:\n",
    "        soup = BeautifulSoup(response.text, 'html.parser')\n",
    "        \n",
    "        # Example: Find tables with launch site information\n",
    "        tables = soup.find_all('table', {'class': 'wikitable'})\n",
    "        \n",
    "        if tables:\n",
    "            for table in tables:\n",
    "                rows = table.find_all('tr')\n",
    "                \n",
    "                # Skip header row\n",
    "                for row in rows[1:]:\n",
    "                    cells = row.find_all(['td', 'th'])\n",
    "                    if len(cells) >= 3:  # Ensuring we have enough cells for data\n",
    "                        site_data = {\n",
    "                            'Name': cells[0].text.strip(),\n",
    "                            'Location': cells[1].text.strip(),\n",
    "                            'Coordinates': cells[2].text.strip() if len(cells) > 2 else \"Unknown\"\n",
    "                        }\n",
    "                        launch_sites.append(site_data)\n",
    "        \n",
    "        return pd.DataFrame(launch_sites)\n",
    "    else:\n",
    "        print(f\"Failed to retrieve data: {response.status_code}\")\n",
    "        return None\n",
    "\n",
    "# Launch sites information\n",
    "# launch_sites_df = scrape_launch_sites()\n",
    "# launch_sites_df.head()"
   ]
  },
  {
   "cell_type": "code",
   "execution_count": null,
   "id": "cb266243",
   "metadata": {
    "vscode": {
     "languageId": "plaintext"
    }
   },
   "outputs": [],
   "source": [
    "def get_space_track_data(username, password):\n",
    "    \"\"\"\n",
    "    Get data from Space-Track.org API\n",
    "    Requires registration at https://www.space-track.org\n",
    "    \"\"\"\n",
    "    login_url = 'https://www.space-track.org/ajaxauth/login'\n",
    "    query_url = 'https://www.space-track.org/basicspacedata/query/class/satcat/format/json'\n",
    "    \n",
    "    payload = {\n",
    "        'identity': username,\n",
    "        'password': password\n",
    "    }\n",
    "    \n",
    "    with requests.Session() as session:\n",
    "        # Login\n",
    "        resp = session.post(login_url, data=payload)\n",
    "        \n",
    "        if resp.status_code == 200:\n",
    "            # Query data\n",
    "            resp = session.get(query_url)\n",
    "            \n",
    "            if resp.status_code == 200:\n",
    "                return pd.DataFrame(resp.json())\n",
    "            else:\n",
    "                print(f\"Failed to retrieve data: {resp.status_code}\")\n",
    "                return None\n",
    "        else:\n",
    "            print(f\"Login failed: {resp.status_code}\")\n",
    "            return None\n",
    "\n",
    "# Example usage\n",
    "# space_track_df = get_space_track_data(\"your_username\", \"your_password\")\n",
    "# if space_track_df is not None:\n",
    "#     space_track_df.head()"
   ]
  },
  {
   "cell_type": "code",
   "execution_count": null,
   "id": "d3c95e0b",
   "metadata": {
    "vscode": {
     "languageId": "plaintext"
    }
   },
   "outputs": [],
   "source": [
    "# Example of how we might merge datasets - just a placeholder as we don't have all data yet\n",
    "# combined_df = pd.merge(missions_df, launch_sites_df, left_on='Launch Site', right_on='Name', how='left')\n",
    "# combined_df.head()"
   ]
  },
  {
   "cell_type": "code",
   "execution_count": null,
   "id": "6c97fac5",
   "metadata": {
    "vscode": {
     "languageId": "plaintext"
    }
   },
   "outputs": [],
   "source": [
    "# Create a directory for processed data if it doesn't exist\n",
    "!mkdir -p ./data/processed\n",
    "\n",
    "# Save the main dataset\n",
    "missions_df.to_csv('./data/processed/missions_cleaned.csv', index=False)\n",
    "\n",
    "# Example: Save additional datasets if they were collected\n",
    "# launch_sites_df.to_csv('./data/processed/launch_sites.csv', index=False)\n",
    "# if space_track_df is not None:\n",
    "#     space_track_df.to_csv('./data/processed/satellite_data.csv', index=False)"
   ]
  },
  {
   "cell_type": "code",
   "execution_count": null,
   "id": "7a1708d8",
   "metadata": {
    "vscode": {
     "languageId": "plaintext"
    }
   },
   "outputs": [],
   "source": [
    "print(\"Data Collection Summary:\")\n",
    "print(f\"- Main space missions dataset: {len(missions_df)} records\")\n",
    "# print(f\"- Launch sites information: {len(launch_sites_df)} sites\")\n",
    "# if space_track_df is not None:\n",
    "#     print(f\"- Space-Track satellite data: {len(space_track_df)} satellites\")\n",
    "# else:\n",
    "#     print(\"- Space-Track satellite data: Not collected\")\n",
    "\n",
    "print(\"\\nNext steps:\")\n",
    "print(\"1. Clean and preprocess the collected data\")\n",
    "print(\"2. Perform exploratory data analysis\")\n",
    "print(\"3. Develop predictive models\")"
   ]
  }
 ],
 "metadata": {
  "language_info": {
   "name": "python"
  }
 },
 "nbformat": 4,
 "nbformat_minor": 5
}
