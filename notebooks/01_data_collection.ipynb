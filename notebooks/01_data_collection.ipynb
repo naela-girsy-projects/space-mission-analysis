{
 "cells": [
  {
   "cell_type": "code",
   "execution_count": null,
   "id": "1ca60233",
   "metadata": {
    "execution": {
     "iopub.execute_input": "2025-05-11T15:05:25.506426Z",
     "iopub.status.busy": "2025-05-11T15:05:25.506068Z",
     "iopub.status.idle": "2025-05-11T15:05:27.972489Z",
     "shell.execute_reply": "2025-05-11T15:05:27.972133Z"
    }
   },
   "outputs": [
    {
     "name": "stdout",
     "output_type": "stream",
     "text": [
      "Requirement already satisfied: pandas in /Users/naelamacbookair/.pyenv/versions/3.10.13/envs/tf-macos-env/lib/python3.10/site-packages (2.0.2)\r\n",
      "Requirement already satisfied: numpy in /Users/naelamacbookair/.pyenv/versions/3.10.13/envs/tf-macos-env/lib/python3.10/site-packages (1.24.3)\r\n",
      "Requirement already satisfied: requests in /Users/naelamacbookair/.pyenv/versions/3.10.13/envs/tf-macos-env/lib/python3.10/site-packages (2.32.3)\r\n",
      "Requirement already satisfied: beautifulsoup4 in /Users/naelamacbookair/.pyenv/versions/3.10.13/envs/tf-macos-env/lib/python3.10/site-packages (4.13.4)\r\n",
      "Requirement already satisfied: kaggle in /Users/naelamacbookair/.pyenv/versions/3.10.13/envs/tf-macos-env/lib/python3.10/site-packages (1.7.4.5)\r\n",
      "Requirement already satisfied: python-dateutil>=2.8.2 in /Users/naelamacbookair/.pyenv/versions/3.10.13/envs/tf-macos-env/lib/python3.10/site-packages (from pandas) (2.8.2)\r\n",
      "Requirement already satisfied: pytz>=2020.1 in /Users/naelamacbookair/.pyenv/versions/3.10.13/envs/tf-macos-env/lib/python3.10/site-packages (from pandas) (2022.7.1)\r\n",
      "Requirement already satisfied: tzdata>=2022.1 in /Users/naelamacbookair/.pyenv/versions/3.10.13/envs/tf-macos-env/lib/python3.10/site-packages (from pandas) (2025.2)\r\n"
     ]
    },
    {
     "name": "stdout",
     "output_type": "stream",
     "text": [
      "Requirement already satisfied: charset-normalizer<4,>=2 in /Users/naelamacbookair/.pyenv/versions/3.10.13/envs/tf-macos-env/lib/python3.10/site-packages (from requests) (3.4.1)\r\n",
      "Requirement already satisfied: idna<4,>=2.5 in /Users/naelamacbookair/.pyenv/versions/3.10.13/envs/tf-macos-env/lib/python3.10/site-packages (from requests) (3.10)\r\n",
      "Requirement already satisfied: urllib3<3,>=1.21.1 in /Users/naelamacbookair/.pyenv/versions/3.10.13/envs/tf-macos-env/lib/python3.10/site-packages (from requests) (2.4.0)\r\n",
      "Requirement already satisfied: certifi>=2017.4.17 in /Users/naelamacbookair/.pyenv/versions/3.10.13/envs/tf-macos-env/lib/python3.10/site-packages (from requests) (2025.1.31)\r\n",
      "Requirement already satisfied: soupsieve>1.2 in /Users/naelamacbookair/.pyenv/versions/3.10.13/envs/tf-macos-env/lib/python3.10/site-packages (from beautifulsoup4) (2.7)\r\n",
      "Requirement already satisfied: typing-extensions>=4.0.0 in /Users/naelamacbookair/.pyenv/versions/3.10.13/envs/tf-macos-env/lib/python3.10/site-packages (from beautifulsoup4) (4.13.2)\r\n",
      "Requirement already satisfied: bleach in /Users/naelamacbookair/.pyenv/versions/3.10.13/envs/tf-macos-env/lib/python3.10/site-packages (from kaggle) (6.2.0)\r\n",
      "Requirement already satisfied: protobuf in /Users/naelamacbookair/.pyenv/versions/3.10.13/envs/tf-macos-env/lib/python3.10/site-packages (from kaggle) (4.23.3)\r\n",
      "Requirement already satisfied: python-slugify in /Users/naelamacbookair/.pyenv/versions/3.10.13/envs/tf-macos-env/lib/python3.10/site-packages (from kaggle) (8.0.4)\r\n",
      "Requirement already satisfied: setuptools>=21.0.0 in /Users/naelamacbookair/.pyenv/versions/3.10.13/envs/tf-macos-env/lib/python3.10/site-packages (from kaggle) (70.3.0)\r\n",
      "Requirement already satisfied: six>=1.10 in /Users/naelamacbookair/.pyenv/versions/3.10.13/envs/tf-macos-env/lib/python3.10/site-packages (from kaggle) (1.17.0)\r\n",
      "Requirement already satisfied: text-unidecode in /Users/naelamacbookair/.pyenv/versions/3.10.13/envs/tf-macos-env/lib/python3.10/site-packages (from kaggle) (1.3)\r\n",
      "Requirement already satisfied: tqdm in /Users/naelamacbookair/.pyenv/versions/3.10.13/envs/tf-macos-env/lib/python3.10/site-packages (from kaggle) (4.66.1)\r\n",
      "Requirement already satisfied: webencodings in /Users/naelamacbookair/.pyenv/versions/3.10.13/envs/tf-macos-env/lib/python3.10/site-packages (from kaggle) (0.5.1)\r\n"
     ]
    },
    {
     "name": "stdout",
     "output_type": "stream",
     "text": [
      "\r\n",
      "\u001b[1m[\u001b[0m\u001b[34;49mnotice\u001b[0m\u001b[1;39;49m]\u001b[0m\u001b[39;49m A new release of pip is available: \u001b[0m\u001b[31;49m25.0.1\u001b[0m\u001b[39;49m -> \u001b[0m\u001b[32;49m25.1.1\u001b[0m\r\n",
      "\u001b[1m[\u001b[0m\u001b[34;49mnotice\u001b[0m\u001b[1;39;49m]\u001b[0m\u001b[39;49m To update, run: \u001b[0m\u001b[32;49mpython -m pip install --upgrade pip\u001b[0m\r\n"
     ]
    }
   ],
   "source": [
    "# Install required packages\n",
    "!pip install pandas numpy requests beautifulsoup4 kaggle\n",
    "\n",
    "# Import necessary libraries\n",
    "import pandas as pd\n",
    "import numpy as np\n",
    "import requests\n",
    "from bs4 import BeautifulSoup\n",
    "import os\n",
    "import json\n",
    "import time\n",
    "from datetime import datetime\n",
    "import re\n",
    "import matplotlib.pyplot as plt\n",
    "import seaborn as sns"
   ]
  },
  {
   "cell_type": "code",
   "execution_count": null,
   "id": "19283b46",
   "metadata": {
    "execution": {
     "iopub.execute_input": "2025-05-11T15:05:27.974076Z",
     "iopub.status.busy": "2025-05-11T15:05:27.973927Z",
     "iopub.status.idle": "2025-05-11T15:05:27.997335Z",
     "shell.execute_reply": "2025-05-11T15:05:27.997082Z"
    }
   },
   "outputs": [
    {
     "name": "stdout",
     "output_type": "stream",
     "text": [
      "Dataset shape: (4324, 9)\n",
      "<class 'pandas.core.frame.DataFrame'>\n",
      "RangeIndex: 4324 entries, 0 to 4323\n",
      "Data columns (total 9 columns):\n",
      " #   Column          Non-Null Count  Dtype \n",
      "---  ------          --------------  ----- \n",
      " 0   Unnamed: 0.1    4324 non-null   int64 \n",
      " 1   Unnamed: 0      4324 non-null   int64 \n",
      " 2   Company Name    4324 non-null   object\n",
      " 3   Location        4324 non-null   object\n",
      " 4   Datum           4324 non-null   object\n",
      " 5   Detail          4324 non-null   object\n",
      " 6   Status Rocket   4324 non-null   object\n",
      " 7    Rocket         964 non-null    object\n",
      " 8   Status Mission  4324 non-null   object\n",
      "dtypes: int64(2), object(7)\n",
      "memory usage: 304.2+ KB\n"
     ]
    },
    {
     "data": {
      "text/html": [
       "<div>\n",
       "<style scoped>\n",
       "    .dataframe tbody tr th:only-of-type {\n",
       "        vertical-align: middle;\n",
       "    }\n",
       "\n",
       "    .dataframe tbody tr th {\n",
       "        vertical-align: top;\n",
       "    }\n",
       "\n",
       "    .dataframe thead th {\n",
       "        text-align: right;\n",
       "    }\n",
       "</style>\n",
       "<table border=\"1\" class=\"dataframe\">\n",
       "  <thead>\n",
       "    <tr style=\"text-align: right;\">\n",
       "      <th></th>\n",
       "      <th>Unnamed: 0.1</th>\n",
       "      <th>Unnamed: 0</th>\n",
       "      <th>Company Name</th>\n",
       "      <th>Location</th>\n",
       "      <th>Datum</th>\n",
       "      <th>Detail</th>\n",
       "      <th>Status Rocket</th>\n",
       "      <th>Rocket</th>\n",
       "      <th>Status Mission</th>\n",
       "    </tr>\n",
       "  </thead>\n",
       "  <tbody>\n",
       "    <tr>\n",
       "      <th>0</th>\n",
       "      <td>0</td>\n",
       "      <td>0</td>\n",
       "      <td>SpaceX</td>\n",
       "      <td>LC-39A, Kennedy Space Center, Florida, USA</td>\n",
       "      <td>Fri Aug 07, 2020 05:12 UTC</td>\n",
       "      <td>Falcon 9 Block 5 | Starlink V1 L9 &amp; BlackSky</td>\n",
       "      <td>StatusActive</td>\n",
       "      <td>50.0</td>\n",
       "      <td>Success</td>\n",
       "    </tr>\n",
       "    <tr>\n",
       "      <th>1</th>\n",
       "      <td>1</td>\n",
       "      <td>1</td>\n",
       "      <td>CASC</td>\n",
       "      <td>Site 9401 (SLS-2), Jiuquan Satellite Launch Ce...</td>\n",
       "      <td>Thu Aug 06, 2020 04:01 UTC</td>\n",
       "      <td>Long March 2D | Gaofen-9 04 &amp; Q-SAT</td>\n",
       "      <td>StatusActive</td>\n",
       "      <td>29.75</td>\n",
       "      <td>Success</td>\n",
       "    </tr>\n",
       "    <tr>\n",
       "      <th>2</th>\n",
       "      <td>2</td>\n",
       "      <td>2</td>\n",
       "      <td>SpaceX</td>\n",
       "      <td>Pad A, Boca Chica, Texas, USA</td>\n",
       "      <td>Tue Aug 04, 2020 23:57 UTC</td>\n",
       "      <td>Starship Prototype | 150 Meter Hop</td>\n",
       "      <td>StatusActive</td>\n",
       "      <td>NaN</td>\n",
       "      <td>Success</td>\n",
       "    </tr>\n",
       "    <tr>\n",
       "      <th>3</th>\n",
       "      <td>3</td>\n",
       "      <td>3</td>\n",
       "      <td>Roscosmos</td>\n",
       "      <td>Site 200/39, Baikonur Cosmodrome, Kazakhstan</td>\n",
       "      <td>Thu Jul 30, 2020 21:25 UTC</td>\n",
       "      <td>Proton-M/Briz-M | Ekspress-80 &amp; Ekspress-103</td>\n",
       "      <td>StatusActive</td>\n",
       "      <td>65.0</td>\n",
       "      <td>Success</td>\n",
       "    </tr>\n",
       "    <tr>\n",
       "      <th>4</th>\n",
       "      <td>4</td>\n",
       "      <td>4</td>\n",
       "      <td>ULA</td>\n",
       "      <td>SLC-41, Cape Canaveral AFS, Florida, USA</td>\n",
       "      <td>Thu Jul 30, 2020 11:50 UTC</td>\n",
       "      <td>Atlas V 541 | Perseverance</td>\n",
       "      <td>StatusActive</td>\n",
       "      <td>145.0</td>\n",
       "      <td>Success</td>\n",
       "    </tr>\n",
       "  </tbody>\n",
       "</table>\n",
       "</div>"
      ],
      "text/plain": [
       "   Unnamed: 0.1  Unnamed: 0 Company Name  \\\n",
       "0             0           0       SpaceX   \n",
       "1             1           1         CASC   \n",
       "2             2           2       SpaceX   \n",
       "3             3           3    Roscosmos   \n",
       "4             4           4          ULA   \n",
       "\n",
       "                                            Location  \\\n",
       "0         LC-39A, Kennedy Space Center, Florida, USA   \n",
       "1  Site 9401 (SLS-2), Jiuquan Satellite Launch Ce...   \n",
       "2                      Pad A, Boca Chica, Texas, USA   \n",
       "3       Site 200/39, Baikonur Cosmodrome, Kazakhstan   \n",
       "4           SLC-41, Cape Canaveral AFS, Florida, USA   \n",
       "\n",
       "                        Datum                                        Detail  \\\n",
       "0  Fri Aug 07, 2020 05:12 UTC  Falcon 9 Block 5 | Starlink V1 L9 & BlackSky   \n",
       "1  Thu Aug 06, 2020 04:01 UTC           Long March 2D | Gaofen-9 04 & Q-SAT   \n",
       "2  Tue Aug 04, 2020 23:57 UTC            Starship Prototype | 150 Meter Hop   \n",
       "3  Thu Jul 30, 2020 21:25 UTC  Proton-M/Briz-M | Ekspress-80 & Ekspress-103   \n",
       "4  Thu Jul 30, 2020 11:50 UTC                    Atlas V 541 | Perseverance   \n",
       "\n",
       "  Status Rocket  Rocket Status Mission  \n",
       "0  StatusActive   50.0         Success  \n",
       "1  StatusActive  29.75         Success  \n",
       "2  StatusActive     NaN        Success  \n",
       "3  StatusActive   65.0         Success  \n",
       "4  StatusActive  145.0         Success  "
      ]
     },
     "execution_count": 2,
     "metadata": {},
     "output_type": "execute_result"
    }
   ],
   "source": [
    "# Load the dataset\n",
    "missions_df = pd.read_csv('/Users/naelamacbookair/desktop backup/self projects/space_mission_analysis/data/Space_Corrected.csv')\n",
    "\n",
    "# Display basic information about the dataset\n",
    "print(f\"Dataset shape: {missions_df.shape}\")\n",
    "missions_df.info()\n",
    "\n",
    "# Display first few rows\n",
    "missions_df.head()"
   ]
  },
  {
   "cell_type": "code",
   "execution_count": null,
   "id": "47277256",
   "metadata": {
    "execution": {
     "iopub.execute_input": "2025-05-11T15:05:27.998569Z",
     "iopub.status.busy": "2025-05-11T15:05:27.998465Z",
     "iopub.status.idle": "2025-05-11T15:05:28.002566Z",
     "shell.execute_reply": "2025-05-11T15:05:28.002311Z"
    }
   },
   "outputs": [
    {
     "name": "stdout",
     "output_type": "stream",
     "text": [
      "Missing values per column:\n",
      " Rocket: 3360 (77.71%)\n"
     ]
    }
   ],
   "source": [
    "# Check for missing values\n",
    "missing_values = missions_df.isnull().sum()\n",
    "print(\"Missing values per column:\")\n",
    "for col in missions_df.columns:\n",
    "    nulls = missions_df[col].isnull().sum()\n",
    "    if nulls > 0:\n",
    "        print(f\"{col}: {nulls} ({nulls/len(missions_df)*100:.2f}%)\")"
   ]
  },
  {
   "cell_type": "code",
   "execution_count": null,
   "id": "1804f3bf",
   "metadata": {
    "execution": {
     "iopub.execute_input": "2025-05-11T15:05:28.003770Z",
     "iopub.status.busy": "2025-05-11T15:05:28.003669Z",
     "iopub.status.idle": "2025-05-11T15:05:28.006105Z",
     "shell.execute_reply": "2025-05-11T15:05:28.005869Z"
    }
   },
   "outputs": [],
   "source": [
    "# Using NASA's API to get additional information\n",
    "# Note: This requires a NASA API key - get one at https://api.nasa.gov/\n",
    "NASA_API_KEY = \"YOUR_NASA_KEY_HERE\"  # Replace with your actual key\n",
    "\n",
    "def get_nasa_mission_info(mission_name):\n",
    "    \"\"\"Fetch mission information from NASA API.\"\"\"\n",
    "    base_url = \"https://api.nasa.gov/planetary/apod\"\n",
    "    params = {\n",
    "        \"api_key\": NASA_API_KEY,\n",
    "        \"date\": \"today\"  # This is just an example; NASA has other endpoints for mission data\n",
    "    }\n",
    "    \n",
    "    try:\n",
    "        response = requests.get(base_url, params=params)\n",
    "        if response.status_code == 200:\n",
    "            return response.json()\n",
    "        else:\n",
    "            print(f\"Error: {response.status_code}\")\n",
    "            return None\n",
    "    except Exception as e:\n",
    "        print(f\"Exception occurred: {e}\")\n",
    "        return None\n",
    "\n",
    "# Example usage\n",
    "# mission_info = get_nasa_mission_info(\"Apollo 11\")\n",
    "# print(mission_info)"
   ]
  },
  {
   "cell_type": "code",
   "execution_count": null,
   "id": "4da43a89",
   "metadata": {
    "execution": {
     "iopub.execute_input": "2025-05-11T15:05:28.007351Z",
     "iopub.status.busy": "2025-05-11T15:05:28.007247Z",
     "iopub.status.idle": "2025-05-11T15:05:28.010255Z",
     "shell.execute_reply": "2025-05-11T15:05:28.009968Z"
    }
   },
   "outputs": [],
   "source": [
    "def scrape_launch_sites():\n",
    "    \"\"\"Scrape information about major launch sites.\"\"\"\n",
    "    url = \"https://en.wikipedia.org/wiki/Spaceport\"\n",
    "    \n",
    "    response = requests.get(url)\n",
    "    launch_sites = []\n",
    "    \n",
    "    if response.status_code == 200:\n",
    "        soup = BeautifulSoup(response.text, 'html.parser')\n",
    "        \n",
    "        # Example: Find tables with launch site information\n",
    "        tables = soup.find_all('table', {'class': 'wikitable'})\n",
    "        \n",
    "        if tables:\n",
    "            for table in tables:\n",
    "                rows = table.find_all('tr')\n",
    "                \n",
    "                # Skip header row\n",
    "                for row in rows[1:]:\n",
    "                    cells = row.find_all(['td', 'th'])\n",
    "                    if len(cells) >= 3:  # Ensuring we have enough cells for data\n",
    "                        site_data = {\n",
    "                            'Name': cells[0].text.strip(),\n",
    "                            'Location': cells[1].text.strip(),\n",
    "                            'Coordinates': cells[2].text.strip() if len(cells) > 2 else \"Unknown\"\n",
    "                        }\n",
    "                        launch_sites.append(site_data)\n",
    "        \n",
    "        return pd.DataFrame(launch_sites)\n",
    "    else:\n",
    "        print(f\"Failed to retrieve data: {response.status_code}\")\n",
    "        return None\n",
    "\n",
    "# Launch sites information\n",
    "# launch_sites_df = scrape_launch_sites()\n",
    "# launch_sites_df.head()"
   ]
  },
  {
   "cell_type": "code",
   "execution_count": null,
   "id": "cb266243",
   "metadata": {
    "execution": {
     "iopub.execute_input": "2025-05-11T15:05:28.011540Z",
     "iopub.status.busy": "2025-05-11T15:05:28.011450Z",
     "iopub.status.idle": "2025-05-11T15:05:28.014005Z",
     "shell.execute_reply": "2025-05-11T15:05:28.013719Z"
    }
   },
   "outputs": [],
   "source": [
    "def get_space_track_data(username, password):\n",
    "    \"\"\"\n",
    "    Get data from Space-Track.org API\n",
    "    Requires registration at https://www.space-track.org\n",
    "    \"\"\"\n",
    "    login_url = 'https://www.space-track.org/ajaxauth/login'\n",
    "    query_url = 'https://www.space-track.org/basicspacedata/query/class/satcat/format/json'\n",
    "    \n",
    "    payload = {\n",
    "        'identity': username,\n",
    "        'password': password\n",
    "    }\n",
    "    \n",
    "    with requests.Session() as session:\n",
    "        # Login\n",
    "        resp = session.post(login_url, data=payload)\n",
    "        \n",
    "        if resp.status_code == 200:\n",
    "            # Query data\n",
    "            resp = session.get(query_url)\n",
    "            \n",
    "            if resp.status_code == 200:\n",
    "                return pd.DataFrame(resp.json())\n",
    "            else:\n",
    "                print(f\"Failed to retrieve data: {resp.status_code}\")\n",
    "                return None\n",
    "        else:\n",
    "            print(f\"Login failed: {resp.status_code}\")\n",
    "            return None\n",
    "\n",
    "# Example usage\n",
    "# space_track_df = get_space_track_data(\"your_username\", \"your_password\")\n",
    "# if space_track_df is not None:\n",
    "#     space_track_df.head()"
   ]
  },
  {
   "cell_type": "code",
   "execution_count": null,
   "id": "d3c95e0b",
   "metadata": {
    "execution": {
     "iopub.execute_input": "2025-05-11T15:05:28.015206Z",
     "iopub.status.busy": "2025-05-11T15:05:28.015119Z",
     "iopub.status.idle": "2025-05-11T15:05:28.016727Z",
     "shell.execute_reply": "2025-05-11T15:05:28.016427Z"
    }
   },
   "outputs": [],
   "source": [
    "# Example of how we might merge datasets - just a placeholder as we don't have all data yet\n",
    "# combined_df = pd.merge(missions_df, launch_sites_df, left_on='Launch Site', right_on='Name', how='left')\n",
    "# combined_df.head()"
   ]
  },
  {
   "cell_type": "code",
   "execution_count": null,
   "id": "6c97fac5",
   "metadata": {
    "execution": {
     "iopub.execute_input": "2025-05-11T15:05:28.017945Z",
     "iopub.status.busy": "2025-05-11T15:05:28.017845Z",
     "iopub.status.idle": "2025-05-11T15:05:28.288173Z",
     "shell.execute_reply": "2025-05-11T15:05:28.287761Z"
    }
   },
   "outputs": [],
   "source": [
    "# Create a directory for processed data if it doesn't exist\n",
    "!mkdir -p ./data/processed\n",
    "\n",
    "# Save the main dataset\n",
    "missions_df.to_csv('./data/processed/missions_cleaned.csv', index=False)\n",
    "\n",
    "# Example: Save additional datasets if they were collected\n",
    "# launch_sites_df.to_csv('./data/processed/launch_sites.csv', index=False)\n",
    "# if space_track_df is not None:\n",
    "#     space_track_df.to_csv('./data/processed/satellite_data.csv', index=False)"
   ]
  },
  {
   "cell_type": "code",
   "execution_count": null,
   "id": "7a1708d8",
   "metadata": {
    "execution": {
     "iopub.execute_input": "2025-05-11T15:05:28.289819Z",
     "iopub.status.busy": "2025-05-11T15:05:28.289681Z",
     "iopub.status.idle": "2025-05-11T15:05:28.292377Z",
     "shell.execute_reply": "2025-05-11T15:05:28.292070Z"
    }
   },
   "outputs": [
    {
     "name": "stdout",
     "output_type": "stream",
     "text": [
      "Data Collection Summary:\n",
      "- Main space missions dataset: 4324 records\n",
      "\n",
      "Next steps:\n",
      "1. Clean and preprocess the collected data\n",
      "2. Perform exploratory data analysis\n",
      "3. Develop predictive models\n"
     ]
    }
   ],
   "source": [
    "print(\"Data Collection Summary:\")\n",
    "print(f\"- Main space missions dataset: {len(missions_df)} records\")\n",
    "# print(f\"- Launch sites information: {len(launch_sites_df)} sites\")\n",
    "# if space_track_df is not None:\n",
    "#     print(f\"- Space-Track satellite data: {len(space_track_df)} satellites\")\n",
    "# else:\n",
    "#     print(\"- Space-Track satellite data: Not collected\")\n",
    "\n",
    "print(\"\\nNext steps:\")\n",
    "print(\"1. Clean and preprocess the collected data\")\n",
    "print(\"2. Perform exploratory data analysis\")\n",
    "print(\"3. Develop predictive models\")"
   ]
  },
  {
   "cell_type": "code",
   "execution_count": null,
   "id": "20f2c4b9",
   "metadata": {},
   "outputs": [],
   "source": []
  }
 ],
 "metadata": {
  "kernelspec": {
   "display_name": ".venv",
   "language": "python",
   "name": "python3"
  },
  "language_info": {
   "codemirror_mode": {
    "name": "ipython",
    "version": 3
   },
   "file_extension": ".py",
   "mimetype": "text/x-python",
   "name": "python",
   "nbconvert_exporter": "python",
   "pygments_lexer": "ipython3",
   "version": "3.10.13"
  }
 },
 "nbformat": 4,
 "nbformat_minor": 5
}
